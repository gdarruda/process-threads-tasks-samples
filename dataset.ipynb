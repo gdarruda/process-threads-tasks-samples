{
 "cells": [
  {
   "cell_type": "code",
   "execution_count": null,
   "metadata": {},
   "outputs": [],
   "source": [
    "import pandas as pd\n",
    "import uuid\n",
    "import numpy as np\n",
    "import os\n",
    "from multiprocessing import Pool\n",
    "from pathlib import Path\n",
    "from collections.abc import Iterable\n",
    "\n",
    "class SampleGenerator:\n",
    "\n",
    "    def __init__(self,\n",
    "                 batch_size: int,\n",
    "                 num_classes: int,\n",
    "                 path: str) -> None:\n",
    "        \n",
    "        self.batch_size = batch_size\n",
    "        self.num_classes = num_classes\n",
    "        self.path = path\n",
    "    \n",
    "        Path(self.path).mkdir(parents=False, exist_ok=True)\n",
    "\n",
    "    def _build_batches(self, num_rows) -> Iterable[int]:\n",
    "\n",
    "        for _ in range(num_rows//self.batch_size):\n",
    "            yield self.batch_size\n",
    "        \n",
    "        remainder = num_rows % self.batch_size\n",
    "\n",
    "        if remainder > 0:\n",
    "            yield remainder\n",
    "\n",
    "    def generate(self, num_rows: int) -> pd.DataFrame:\n",
    "\n",
    "        df = pd.DataFrame(\n",
    "            {**{\"id_client\": [str(uuid.uuid4()) for _ in range(num_rows)]},\n",
    "             **{f\"class_{c}\": np.random.uniform(size=num_rows)\n",
    "                for c in range(self.num_classes)}\n",
    "            }\n",
    "        )\n",
    "\n",
    "        df.to_parquet(f\"{self.path}/{num_rows}-{uuid.uuid4()}.parquet\")\n",
    "\n",
    "    def generate_parallel(self,\n",
    "                          num_rows: int) -> pd.DataFrame:\n",
    "\n",
    "        batches = self._build_batches(num_rows)\n",
    "\n",
    "        with Pool(os.cpu_count()) as p:\n",
    "            p.map(self.generate, batches)"
   ]
  },
  {
   "cell_type": "code",
   "execution_count": null,
   "metadata": {},
   "outputs": [],
   "source": [
    "NUM_ROWS = 100_000\n",
    "BATCH_SIZE = 5_000\n",
    "NUM_CLASSES = 10\n",
    "\n",
    "generator = SampleGenerator(BATCH_SIZE, NUM_CLASSES, \"samples\")"
   ]
  },
  {
   "cell_type": "code",
   "execution_count": null,
   "metadata": {},
   "outputs": [],
   "source": [
    "%timeit generator.generate_parallel(NUM_ROWS)"
   ]
  },
  {
   "cell_type": "code",
   "execution_count": null,
   "metadata": {},
   "outputs": [],
   "source": [
    "%timeit generator.generate(NUM_ROWS)"
   ]
  }
 ],
 "metadata": {
  "kernelspec": {
   "display_name": "sandbox",
   "language": "python",
   "name": "python3"
  },
  "language_info": {
   "codemirror_mode": {
    "name": "ipython",
    "version": 3
   },
   "file_extension": ".py",
   "mimetype": "text/x-python",
   "name": "python",
   "nbconvert_exporter": "python",
   "pygments_lexer": "ipython3",
   "version": "3.11.9"
  }
 },
 "nbformat": 4,
 "nbformat_minor": 2
}
